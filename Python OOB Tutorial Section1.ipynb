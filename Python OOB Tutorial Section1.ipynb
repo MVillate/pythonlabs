{
 "cells": [
  {
   "cell_type": "markdown",
   "metadata": {},
   "source": [
    "# CLASSES TUTORIAL\n",
    "## Method: A function that is associated with a class\n",
    "### Instance variables contain data that is unique to each instance \n",
    "### Atributes of a class can be called with instance.atribute\n",
    "### Methods  of a class can be called with instance.method()\n",
    "\n",
    "Vocabulary\n",
    "- Class\n",
    "- Instance of a class\n",
    "- Atributes (instance variables and class variables)\n",
    "- Methods"
   ]
  },
  {
   "cell_type": "code",
   "execution_count": null,
   "metadata": {},
   "outputs": [],
   "source": []
  },
  {
   "cell_type": "code",
   "execution_count": 1,
   "metadata": {},
   "outputs": [],
   "source": [
    "# This is the class employee\n",
    "class Employee:\n",
    "    pass"
   ]
  },
  {
   "cell_type": "code",
   "execution_count": 2,
   "metadata": {},
   "outputs": [
    {
     "name": "stdout",
     "output_type": "stream",
     "text": [
      "Instance emp_1 <__main__.Employee object at 0x110d6db00> \n",
      "Instance emp_2 <__main__.Employee object at 0x110d6db38>\n"
     ]
    }
   ],
   "source": [
    "# Now these are instances (Objects) of the Employee Class\n",
    "emp_1 = Employee()\n",
    "emp_2 = Employee()\n",
    "print(f\"Instance emp_1 {emp_1} \\nInstance emp_2 {emp_2}\")\n",
    "# Each instance has a different location in memory"
   ]
  },
  {
   "cell_type": "code",
   "execution_count": 3,
   "metadata": {},
   "outputs": [
    {
     "name": "stdout",
     "output_type": "stream",
     "text": [
      "Instance emp_1 first name Manuel \n",
      "Instance emp_2 first name Francisco\n"
     ]
    }
   ],
   "source": [
    "# Giving to each instances attributes manually, that are unique to each instance:\n",
    "emp_1.first = 'Manuel'\n",
    "emp_1.last = 'Villate'\n",
    "emp_1.Age = 34\n",
    "\n",
    "emp_2.first = 'Francisco'\n",
    "emp_2.last = 'Villate'\n",
    "emp_2.Age = 39\n",
    "\n",
    "print(f\"Instance emp_1 first name {emp_1.first} \\nInstance emp_2 first name {emp_2.first}\")"
   ]
  },
  {
   "cell_type": "code",
   "execution_count": 4,
   "metadata": {},
   "outputs": [],
   "source": [
    "# This is the class employee now being defined with instance variables (attributes)\n",
    "class Employee:\n",
    "    def __init__(self, first, last, pay):\n",
    "        self.first = first\n",
    "        self.last = last\n",
    "        self.pay = pay\n",
    "        self.email = first + '.' + last + '@acme.com'"
   ]
  },
  {
   "cell_type": "code",
   "execution_count": 5,
   "metadata": {},
   "outputs": [
    {
     "name": "stdout",
     "output_type": "stream",
     "text": [
      "Instance emp_1 <__main__.Employee object at 0x110dc3550> \n",
      "Instance emp_2 <__main__.Employee object at 0x110dc3518>\n",
      "Instance emp_1 first name Manuel mail Manuel.Villate@acme.com \n",
      "Instance emp_2 first name Francisco mail Francisco.Villate@acme.com \n"
     ]
    }
   ],
   "source": [
    "# Now these are instances of the Employee Class\n",
    "emp_1 = Employee('Manuel', 'Villate', '100000')\n",
    "emp_2 = Employee('Francisco', 'Villate', '100000')\n",
    "print(f\"Instance emp_1 {emp_1} \\nInstance emp_2 {emp_2}\")\n",
    "print(f\"Instance emp_1 first name {emp_1.first} mail {emp_1.email} \\nInstance emp_2 first name {emp_2.first} mail {emp_2.email} \")"
   ]
  },
  {
   "cell_type": "markdown",
   "metadata": {},
   "source": [
    "### Adding Methods to a class"
   ]
  },
  {
   "cell_type": "code",
   "execution_count": 6,
   "metadata": {},
   "outputs": [],
   "source": [
    "\n",
    "# This is the class employee now being defined with instance variables  (attributes)\n",
    "class Employee:\n",
    "    def __init__(self, first, last, pay):\n",
    "        self.first = first\n",
    "        self.last = last\n",
    "        self.pay = pay\n",
    "        self.email = first + '.' + last + '@acme.com'\n",
    "# Defining Methods of the class   \n",
    "    def fullname(self):\n",
    "        return f\"{self.first} {self.last}\""
   ]
  },
  {
   "cell_type": "code",
   "execution_count": 7,
   "metadata": {},
   "outputs": [
    {
     "name": "stdout",
     "output_type": "stream",
     "text": [
      "Instance emp_1 <__main__.Employee object at 0x110dc3c50> \n",
      "Instance emp_2 <__main__.Employee object at 0x110dc3c18>\n",
      "Instance emp_1 first name Manuel mail Manuel.Villate@acme.com \n",
      "Instance emp_2 first name Francisco mail Francisco.Villate@acme.com \n",
      "Method to calculate full name  <bound method Employee.fullname of <__main__.Employee object at 0x110dc3c50>>\n",
      "Full name of emp_1 calculated via the method  Manuel Villate\n",
      "Full name of emp_2 calculated via the method on the class Francisco Villate\n"
     ]
    }
   ],
   "source": [
    "# Defining the instances\n",
    "emp_1 = Employee('Manuel', 'Villate', 100000)\n",
    "emp_2 = Employee('Francisco', 'Villate', 100000)\n",
    "print(f\"Instance emp_1 {emp_1} \\nInstance emp_2 {emp_2}\")\n",
    "print(f\"Instance emp_1 first name {emp_1.first} mail {emp_1.email} \\nInstance emp_2 first name {emp_2.first} mail {emp_2.email} \")\n",
    "# Printing information regarding the method\n",
    "print(f\"Method to calculate full name  {emp_1.fullname}\")\n",
    "print(f\"Full name of emp_1 calculated via the method  {emp_1.fullname()}\")\n",
    "\n",
    "# Also the method can be called on the class, but with the instance as an argument:\n",
    "print(f\"Full name of emp_2 calculated via the method on the class {Employee.fullname(emp_2)}\")"
   ]
  },
  {
   "cell_type": "code",
   "execution_count": null,
   "metadata": {},
   "outputs": [],
   "source": []
  }
 ],
 "metadata": {
  "kernelspec": {
   "display_name": "Python 3",
   "language": "python",
   "name": "python3"
  },
  "language_info": {
   "codemirror_mode": {
    "name": "ipython",
    "version": 3
   },
   "file_extension": ".py",
   "mimetype": "text/x-python",
   "name": "python",
   "nbconvert_exporter": "python",
   "pygments_lexer": "ipython3",
   "version": "3.7.1"
  }
 },
 "nbformat": 4,
 "nbformat_minor": 4
}
