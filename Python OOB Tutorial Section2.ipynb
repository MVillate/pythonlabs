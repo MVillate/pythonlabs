{
 "cells": [
  {
   "cell_type": "markdown",
   "metadata": {},
   "source": [
    "New concepts:\n",
    "- Class variable\n",
    "- Name space dictionary\n",
    "    "
   ]
  },
  {
   "cell_type": "markdown",
   "metadata": {},
   "source": [
    "Class variables are variables that are shared among all the instances of the class"
   ]
  },
  {
   "cell_type": "code",
   "execution_count": 5,
   "metadata": {},
   "outputs": [
    {
     "name": "stdout",
     "output_type": "stream",
     "text": [
      "Instance emp_1 salary 100000 \n",
      "Instance emp_2 salary 150000\n",
      "Instance emp_1 salary after raise 104000 \n",
      "Instance emp_2 salary after raise 156000\n"
     ]
    }
   ],
   "source": [
    "\n",
    "# This is the class employee now being defined with instance variables and a class variable\n",
    "class Employee:\n",
    "    # Class variable\n",
    "    raise_amount = 1.04\n",
    "    \n",
    "    def __init__(self, first, last, pay):\n",
    "        self.first = first\n",
    "        self.last = last\n",
    "        self.pay = pay\n",
    "        self.email = first + '.' + last + '@acme.com'\n",
    "        \n",
    "# Defining Methods of the class   \n",
    "    def fullname(self):\n",
    "        return f\"{self.first} {self.last}\"\n",
    "    def apply_raise(self):\n",
    "        self.pay = int(self.pay * Employee.raise_amount)\n",
    "        \n",
    "# Defining the instances\n",
    "emp_1 = Employee('Manuel', 'Villate', 100000)\n",
    "emp_2 = Employee('Francisco', 'Villate', 150000)\n",
    "\n",
    "#Printing the original salaries\n",
    "print(f\"Instance emp_1 salary {emp_1.pay} \\nInstance emp_2 salary {emp_2.pay}\")\n",
    "\n",
    "# Applying the methods \n",
    "emp_1.apply_raise()\n",
    "emp_2.apply_raise()\n",
    "\n",
    "#Printing the salaries after raise\n",
    "print(f\"Instance emp_1 salary after raise {emp_1.pay} \\nInstance emp_2 salary after raise {emp_2.pay}\")\n",
    "\n"
   ]
  },
  {
   "cell_type": "code",
   "execution_count": 9,
   "metadata": {},
   "outputs": [
    {
     "name": "stdout",
     "output_type": "stream",
     "text": [
      "emp_1 instance raise amount 1.04\n",
      "emp_2 instance raise amount 1.04\n",
      "Employee class raise amount 1.04\n"
     ]
    }
   ],
   "source": [
    "# The class variable can be accessed from the class and the instances, even though are not defined in the instance\n",
    "print(f\"emp_1 instance raise amount {emp_1.raise_amount}\")\n",
    "print(f\"emp_2 instance raise amount {emp_2.raise_amount}\")\n",
    "print(f\"Employee class raise amount {Employee.raise_amount}\")"
   ]
  },
  {
   "cell_type": "code",
   "execution_count": 11,
   "metadata": {},
   "outputs": [
    {
     "name": "stdout",
     "output_type": "stream",
     "text": [
      "{'first': 'Manuel', 'last': 'Villate', 'pay': 104000, 'email': 'Manuel.Villate@acme.com'}\n"
     ]
    }
   ],
   "source": [
    "# The class variables are not in  the namespace of the instance:\n",
    "print(emp_1.__dict__)"
   ]
  },
  {
   "cell_type": "code",
   "execution_count": 12,
   "metadata": {},
   "outputs": [
    {
     "name": "stdout",
     "output_type": "stream",
     "text": [
      "{'__module__': '__main__', 'raise_amount': 1.04, '__init__': <function Employee.__init__ at 0x102d76048>, 'fullname': <function Employee.fullname at 0x102d76488>, 'apply_raise': <function Employee.apply_raise at 0x102d76510>, '__dict__': <attribute '__dict__' of 'Employee' objects>, '__weakref__': <attribute '__weakref__' of 'Employee' objects>, '__doc__': None}\n"
     ]
    }
   ],
   "source": [
    "# But the class variables can be seen in the namespace of the Class (Obviously) :\n",
    "print(Employee.__dict__)"
   ]
  },
  {
   "cell_type": "code",
   "execution_count": 13,
   "metadata": {},
   "outputs": [
    {
     "name": "stdout",
     "output_type": "stream",
     "text": [
      "emp_1 instance raise amount 1.07\n",
      "emp_2 instance raise amount 1.07\n",
      "Employee class raise amount 1.07\n"
     ]
    }
   ],
   "source": [
    "# When modifying the class variable, all the instances will see the new value\n",
    "Employee.raise_amount = 1.07\n",
    "print(f\"emp_1 instance raise amount {emp_1.raise_amount}\")\n",
    "print(f\"emp_2 instance raise amount {emp_2.raise_amount}\")\n",
    "print(f\"Employee class raise amount {Employee.raise_amount}\")"
   ]
  },
  {
   "cell_type": "code",
   "execution_count": 18,
   "metadata": {},
   "outputs": [
    {
     "name": "stdout",
     "output_type": "stream",
     "text": [
      "emp_1 instance raise amount 1.09\n",
      "emp_2 instance raise amount 1.07\n",
      "Employee class raise amount 1.07\n"
     ]
    }
   ],
   "source": [
    "# Also, the class variable can be modified for one instance:\n",
    "emp_1.raise_amount = 1.09\n",
    "print(f\"emp_1 instance raise amount {emp_1.raise_amount}\")\n",
    "print(f\"emp_2 instance raise amount {emp_2.raise_amount}\")\n",
    "print(f\"Employee class raise amount {Employee.raise_amount}\")"
   ]
  },
  {
   "cell_type": "code",
   "execution_count": 19,
   "metadata": {},
   "outputs": [
    {
     "name": "stdout",
     "output_type": "stream",
     "text": [
      "{'first': 'Manuel', 'last': 'Villate', 'pay': 104000, 'email': 'Manuel.Villate@acme.com', 'raise_amount': 1.09}\n"
     ]
    }
   ],
   "source": [
    "# But that basically means creating the variable in the instance with a different value, as shown in the namespace\n",
    "print(emp_1.__dict__)"
   ]
  },
  {
   "cell_type": "code",
   "execution_count": 20,
   "metadata": {},
   "outputs": [
    {
     "name": "stdout",
     "output_type": "stream",
     "text": [
      "{'first': 'Francisco', 'last': 'Villate', 'pay': 156000, 'email': 'Francisco.Villate@acme.com'}\n"
     ]
    }
   ],
   "source": [
    "# The other classes won't have the raise value\n",
    "print(emp_2.__dict__)"
   ]
  },
  {
   "cell_type": "markdown",
   "metadata": {},
   "source": [
    "### Example of another class variable. Counter of instances"
   ]
  },
  {
   "cell_type": "code",
   "execution_count": 21,
   "metadata": {},
   "outputs": [],
   "source": [
    "# This is the class employee now being defined with instance variables and a class variable\n",
    "class Employee:\n",
    "    # Class variables\n",
    "    num_of_emps = 0\n",
    "    raise_amount = 1.04\n",
    "    \n",
    "    def __init__(self, first, last, pay):\n",
    "        self.first = first\n",
    "        self.last = last\n",
    "        self.pay = pay\n",
    "        self.email = first + '.' + last + '@acme.com'\n",
    "        \n",
    "        Employee.num_of_emps += 1\n",
    "        \n",
    "# Defining Methods of the class   \n",
    "    def fullname(self):\n",
    "        return f\"{self.first} {self.last}\"\n",
    "    def apply_raise(self):\n",
    "        self.pay = int(self.pay * Employee.raise_amount)\n",
    "        \n",
    "# Defining the instances\n",
    "emp_1 = Employee('Manuel', 'Villate', 100000)\n",
    "emp_2 = Employee('Francisco', 'Villate', 150000)\n",
    "\n",
    "        "
   ]
  },
  {
   "cell_type": "code",
   "execution_count": 22,
   "metadata": {},
   "outputs": [
    {
     "name": "stdout",
     "output_type": "stream",
     "text": [
      "2\n"
     ]
    }
   ],
   "source": [
    "# Showing the value of the counter after execution:\n",
    "print(Employee.num_of_emps)"
   ]
  },
  {
   "cell_type": "code",
   "execution_count": null,
   "metadata": {},
   "outputs": [],
   "source": []
  }
 ],
 "metadata": {
  "kernelspec": {
   "display_name": "Python 3",
   "language": "python",
   "name": "python3"
  },
  "language_info": {
   "codemirror_mode": {
    "name": "ipython",
    "version": 3
   },
   "file_extension": ".py",
   "mimetype": "text/x-python",
   "name": "python",
   "nbconvert_exporter": "python",
   "pygments_lexer": "ipython3",
   "version": "3.7.1"
  }
 },
 "nbformat": 4,
 "nbformat_minor": 4
}
